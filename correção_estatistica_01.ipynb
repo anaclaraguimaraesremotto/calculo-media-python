{
  "nbformat": 4,
  "nbformat_minor": 0,
  "metadata": {
    "colab": {
      "provenance": [],
      "authorship_tag": "ABX9TyMP1mVIFPoAusdQfl6OrMBR",
      "include_colab_link": true
    },
    "kernelspec": {
      "name": "python3",
      "display_name": "Python 3"
    },
    "language_info": {
      "name": "python"
    }
  },
  "cells": [
    {
      "cell_type": "markdown",
      "metadata": {
        "id": "view-in-github",
        "colab_type": "text"
      },
      "source": [
        "<a href=\"https://colab.research.google.com/github/anaclaraguimaraesremotto/calculo-media-python/blob/main/corre%C3%A7%C3%A3o_estatistica_01.ipynb\" target=\"_parent\"><img src=\"https://colab.research.google.com/assets/colab-badge.svg\" alt=\"Open In Colab\"/></a>"
      ]
    },
    {
      "cell_type": "markdown",
      "source": [
        "Meu\n",
        "\n"
      ],
      "metadata": {
        "id": "yvywUhPeTm7Y"
      }
    },
    {
      "cell_type": "code",
      "execution_count": 1,
      "metadata": {
        "id": "GgQdJraaTVXk"
      },
      "outputs": [],
      "source": [
        "def calcular_media_aritimetica(lista):\n",
        "    return sum(lista) / len(lista)"
      ]
    },
    {
      "cell_type": "code",
      "source": [
        "numeros = [39, 38, 27, 22, 20, 17, 10, 10, 10, 10, 7, 7, 7, 7, 6]"
      ],
      "metadata": {
        "id": "h0_aJxTaTegA"
      },
      "execution_count": 2,
      "outputs": []
    },
    {
      "cell_type": "code",
      "source": [
        "media_aritimetica = calcular_media_aritimetica(numeros)"
      ],
      "metadata": {
        "id": "z8oyeiIHTfVX"
      },
      "execution_count": 3,
      "outputs": []
    },
    {
      "cell_type": "code",
      "source": [
        "print(\"Média Aritimética:\", media_aritimetica)"
      ],
      "metadata": {
        "colab": {
          "base_uri": "https://localhost:8080/"
        },
        "id": "OkmT81_ITkIw",
        "outputId": "eb3741c4-6ec8-4f8d-d54b-0992fe0869c6"
      },
      "execution_count": 4,
      "outputs": [
        {
          "output_type": "stream",
          "name": "stdout",
          "text": [
            "Média Aritimética: 15.8\n"
          ]
        }
      ]
    },
    {
      "cell_type": "markdown",
      "source": [
        "prof"
      ],
      "metadata": {
        "id": "SQbTLe4ATy2w"
      }
    },
    {
      "cell_type": "code",
      "source": [
        "def media_aritimetica(x):\n",
        "  N = len(x)\n",
        "  soma = 0\n",
        "  for i in range(0,N):\n",
        "    soma = soma+x[i]\n",
        "\n",
        "  media = soma/N\n",
        "\n",
        "  return media"
      ],
      "metadata": {
        "id": "0aQTyaiuTvuo"
      },
      "execution_count": 5,
      "outputs": []
    },
    {
      "cell_type": "code",
      "source": [
        "media_aritimetica([10,10])"
      ],
      "metadata": {
        "colab": {
          "base_uri": "https://localhost:8080/"
        },
        "id": "WQuYslwEUMMO",
        "outputId": "55bd553c-9b8f-406d-b206-6c99e7b0c7b5"
      },
      "execution_count": 6,
      "outputs": [
        {
          "output_type": "execute_result",
          "data": {
            "text/plain": [
              "10.0"
            ]
          },
          "metadata": {},
          "execution_count": 6
        }
      ]
    },
    {
      "cell_type": "markdown",
      "source": [
        "meu\n",
        "\n"
      ],
      "metadata": {
        "id": "1uqrI-VVUty-"
      }
    },
    {
      "cell_type": "code",
      "source": [
        "def calcular_media_geometrica(lista):\n",
        "    produto = 1\n",
        "    for num in lista:\n",
        "        produto *= num\n",
        "    return math.pow(produto, 1/len(lista))"
      ],
      "metadata": {
        "id": "kyhvF6jsUsPJ"
      },
      "execution_count": 7,
      "outputs": []
    },
    {
      "cell_type": "code",
      "source": [
        "import math"
      ],
      "metadata": {
        "id": "5CM32GIqU1eI"
      },
      "execution_count": 9,
      "outputs": []
    },
    {
      "cell_type": "code",
      "source": [
        "media_geometrica = calcular_media_geometrica(numeros)\n"
      ],
      "metadata": {
        "id": "07OJn8onU9ig"
      },
      "execution_count": 10,
      "outputs": []
    },
    {
      "cell_type": "code",
      "source": [
        "print(\"Média Geométrica:\", media_geometrica)"
      ],
      "metadata": {
        "colab": {
          "base_uri": "https://localhost:8080/"
        },
        "id": "3Ct0Jd-nU_vQ",
        "outputId": "3999d2d7-c601-4f12-83d6-273405365618"
      },
      "execution_count": 11,
      "outputs": [
        {
          "output_type": "stream",
          "name": "stdout",
          "text": [
            "Média Geométrica: 12.85218983525253\n"
          ]
        }
      ]
    },
    {
      "cell_type": "markdown",
      "source": [
        "prof\n"
      ],
      "metadata": {
        "id": "tbRASqlwVB5g"
      }
    },
    {
      "cell_type": "code",
      "source": [
        "def media_geometrica(x):\n",
        "  N = len(x)\n",
        "  soma = 1\n",
        "  for i in range(0,N):\n",
        "    soma = soma*x[i]\n",
        "\n",
        "  media = soma**(1/N)\n",
        "\n",
        "  return media"
      ],
      "metadata": {
        "id": "V0ArEjvtVC_I"
      },
      "execution_count": 14,
      "outputs": []
    },
    {
      "cell_type": "code",
      "source": [
        "media_geometrica([2,2])"
      ],
      "metadata": {
        "colab": {
          "base_uri": "https://localhost:8080/"
        },
        "id": "n5XXne-JVH-x",
        "outputId": "d8495b62-6e72-49e6-abae-ac80b4823123"
      },
      "execution_count": 15,
      "outputs": [
        {
          "output_type": "execute_result",
          "data": {
            "text/plain": [
              "2.0"
            ]
          },
          "metadata": {},
          "execution_count": 15
        }
      ]
    },
    {
      "cell_type": "markdown",
      "source": [
        "meu\n"
      ],
      "metadata": {
        "id": "j6y-S9SvVZtY"
      }
    },
    {
      "cell_type": "code",
      "source": [
        "def calcular_media_harmonica(lista):\n",
        "    inversos = [1/num for num in lista]\n",
        "    return len(lista) / sum(inversos)"
      ],
      "metadata": {
        "id": "5tp-VT5SVauo"
      },
      "execution_count": 16,
      "outputs": []
    },
    {
      "cell_type": "code",
      "source": [
        "media_harmonica = calcular_media_harmonica(numeros)"
      ],
      "metadata": {
        "id": "clfK6gAiVa3g"
      },
      "execution_count": 17,
      "outputs": []
    },
    {
      "cell_type": "code",
      "source": [
        "print(\"Média Harmônica:\", media_harmonica)"
      ],
      "metadata": {
        "colab": {
          "base_uri": "https://localhost:8080/"
        },
        "id": "8oeS3njUVeeQ",
        "outputId": "c6705754-24d6-4ad5-c238-4479af52d938"
      },
      "execution_count": 18,
      "outputs": [
        {
          "output_type": "stream",
          "name": "stdout",
          "text": [
            "Média Harmônica: 10.858807403873502\n"
          ]
        }
      ]
    },
    {
      "cell_type": "markdown",
      "source": [
        "prof"
      ],
      "metadata": {
        "id": "ypD7lbtDVhHI"
      }
    },
    {
      "cell_type": "code",
      "source": [
        "def media_harmonica(x):\n",
        "  N = len(x)\n",
        "  soma = 0\n",
        "  for i in range(0,N):\n",
        "    soma = soma+(1/x[i])\n",
        "\n",
        "  media = N/soma\n",
        "\n",
        "  return media"
      ],
      "metadata": {
        "id": "JzFWkr3KVdRh"
      },
      "execution_count": 19,
      "outputs": []
    },
    {
      "cell_type": "code",
      "source": [
        "media_harmonica([2,1])"
      ],
      "metadata": {
        "colab": {
          "base_uri": "https://localhost:8080/"
        },
        "id": "GVDqr07cVmhY",
        "outputId": "4cd0ee74-52e5-4ffa-9ed7-1abcdd37a222"
      },
      "execution_count": 21,
      "outputs": [
        {
          "output_type": "execute_result",
          "data": {
            "text/plain": [
              "1.3333333333333333"
            ]
          },
          "metadata": {},
          "execution_count": 21
        }
      ]
    },
    {
      "cell_type": "markdown",
      "source": [
        "meu\n"
      ],
      "metadata": {
        "id": "MpfEHq3YW4Uq"
      }
    },
    {
      "cell_type": "code",
      "source": [
        "def calcular_media_ponderada(valores, pesos):\n",
        "    soma_pesos = sum(pesos)\n",
        "    soma_produtos = sum([valor * peso for valor, peso in zip(valores, pesos)])\n",
        "\n",
        "    return soma_produtos / soma_pesos"
      ],
      "metadata": {
        "id": "9rb96OGkW5Fr"
      },
      "execution_count": 22,
      "outputs": []
    },
    {
      "cell_type": "code",
      "source": [
        "valores = [39, 38, 27, 22, 20, 17, 10, 10, 10, 10, 7, 7, 7, 7, 6]\n",
        "pesos = [113, 88, 58, 65, 71, 46, 36, 33, 37, 40, 24, 21, 20, 15, 20]"
      ],
      "metadata": {
        "id": "WYvN8b9lW6wa"
      },
      "execution_count": 23,
      "outputs": []
    },
    {
      "cell_type": "code",
      "source": [
        "media_ponderada = calcular_media_ponderada(valores, pesos)"
      ],
      "metadata": {
        "id": "nTIuW-XoW8fy"
      },
      "execution_count": 24,
      "outputs": []
    },
    {
      "cell_type": "code",
      "source": [
        "print(\"Média Ponderada:\", media_ponderada)"
      ],
      "metadata": {
        "colab": {
          "base_uri": "https://localhost:8080/"
        },
        "id": "ItYguJQUW97q",
        "outputId": "d9d890af-de51-4d0a-d34c-0fe99d479cba"
      },
      "execution_count": 25,
      "outputs": [
        {
          "output_type": "stream",
          "name": "stdout",
          "text": [
            "Média Ponderada: 21.963609898107716\n"
          ]
        }
      ]
    },
    {
      "cell_type": "markdown",
      "source": [
        "prof\n"
      ],
      "metadata": {
        "id": "PgDeIAC_W_ky"
      }
    },
    {
      "cell_type": "code",
      "source": [
        "def media_ponderada(x,w):\n",
        "  N = len(x)\n",
        "  soma_xw = 0\n",
        "  soma_w = 0\n",
        "  for i in range(0,N):\n",
        "    soma_xw = soma_xw + x[i]*w[i]\n",
        "    soma_w = soma_w + w[i]\n",
        "\n",
        "  media = soma_xw/soma_w\n",
        "  return media\n"
      ],
      "metadata": {
        "id": "JLi1S7TUXAw-"
      },
      "execution_count": 26,
      "outputs": []
    },
    {
      "cell_type": "code",
      "source": [
        "\n",
        "x = [39, 38, 27, 22, 20, 17, 10, 10, 10, 10, 7, 7, 7, 7, 6]\n",
        "w = [113, 88, 58, 65, 71, 46, 36, 33, 37, 40, 24, 21, 20, 15, 20]"
      ],
      "metadata": {
        "id": "imeANDJ7Xm8C"
      },
      "execution_count": 27,
      "outputs": []
    },
    {
      "cell_type": "code",
      "source": [
        "media_ponderada(x,w)"
      ],
      "metadata": {
        "colab": {
          "base_uri": "https://localhost:8080/"
        },
        "id": "oDg7cQhGXuda",
        "outputId": "2e7d79d8-ae5e-4921-bf7a-0fe481ad39a1"
      },
      "execution_count": 28,
      "outputs": [
        {
          "output_type": "execute_result",
          "data": {
            "text/plain": [
              "21.963609898107716"
            ]
          },
          "metadata": {},
          "execution_count": 28
        }
      ]
    },
    {
      "cell_type": "markdown",
      "source": [
        "# Exercicio 4"
      ],
      "metadata": {
        "id": "99wj_ibWhNKU"
      }
    },
    {
      "cell_type": "code",
      "source": [
        "def variancia_populacional(x):\n",
        "  media = media_aritimetica(x)\n",
        "  N = len(x)\n",
        "  soma = 0\n",
        "  for i in range(0, N):\n",
        "    soma = soma + (x[i]-media)**2\n",
        "  variancia = soma/N\n",
        "  return variancia"
      ],
      "metadata": {
        "id": "xnFicq43hQTE"
      },
      "execution_count": 31,
      "outputs": []
    },
    {
      "cell_type": "code",
      "source": [
        "def variancia_amostral(x):\n",
        "  media = media_aritimetica(x)\n",
        "  N = len(x)\n",
        "\n",
        "  soma = 0\n",
        "  for i in range(0, N):\n",
        "    soma = soma + (x[i]-media)**2\n",
        "  variancia = soma/(N-1)\n",
        "  return variancia"
      ],
      "metadata": {
        "id": "k-i2OQvCht8U"
      },
      "execution_count": 32,
      "outputs": []
    },
    {
      "cell_type": "code",
      "source": [
        "def desvio_padrao_populacional(x):\n",
        "  return variancia_populacional(x)**(1/2)"
      ],
      "metadata": {
        "id": "ngNy1UHDh1iN"
      },
      "execution_count": 33,
      "outputs": []
    },
    {
      "cell_type": "code",
      "source": [
        "def desvio_padrao_amostral(x):\n",
        "  return variancia_amostral(x)**(1/2)"
      ],
      "metadata": {
        "id": "3enrjB3TiXDK"
      },
      "execution_count": 34,
      "outputs": []
    },
    {
      "cell_type": "code",
      "source": [
        "def incerteza_media(x):\n",
        "  media = media_aritimetica(x)\n",
        "  N = len(x)\n",
        "  soma = 0\n",
        "  for i in range(0,N):\n",
        "    soma = soma+(x[i]-media)**2\n",
        "  variancia = soma/(N*(N-1))\n",
        "  return variancia**0.5"
      ],
      "metadata": {
        "id": "CpvsTOKiigXm"
      },
      "execution_count": 35,
      "outputs": []
    },
    {
      "cell_type": "code",
      "source": [
        "variancia_populacional(x)"
      ],
      "metadata": {
        "colab": {
          "base_uri": "https://localhost:8080/"
        },
        "id": "yFhpn5k5kJjG",
        "outputId": "35ed3ff6-3723-4ba5-9b89-0e100e9ec9c1"
      },
      "execution_count": 37,
      "outputs": [
        {
          "output_type": "execute_result",
          "data": {
            "text/plain": [
              "125.64958476738853"
            ]
          },
          "metadata": {},
          "execution_count": 37
        }
      ]
    },
    {
      "cell_type": "code",
      "source": [
        "variancia_amostral(x)"
      ],
      "metadata": {
        "colab": {
          "base_uri": "https://localhost:8080/"
        },
        "id": "PzUoLcF0kKNA",
        "outputId": "b046aecc-7872-490e-bb64-b0ebbb18147c"
      },
      "execution_count": 38,
      "outputs": [
        {
          "output_type": "execute_result",
          "data": {
            "text/plain": [
              "134.62455510791628"
            ]
          },
          "metadata": {},
          "execution_count": 38
        }
      ]
    },
    {
      "cell_type": "code",
      "source": [
        "desvio_padrao_populacional(x)"
      ],
      "metadata": {
        "colab": {
          "base_uri": "https://localhost:8080/"
        },
        "id": "icaYIo6mkRzn",
        "outputId": "a3d200b3-a717-4178-81a2-4ec09975cc05"
      },
      "execution_count": 39,
      "outputs": [
        {
          "output_type": "execute_result",
          "data": {
            "text/plain": [
              "11.209352557903982"
            ]
          },
          "metadata": {},
          "execution_count": 39
        }
      ]
    },
    {
      "cell_type": "code",
      "source": [
        "desvio_padrao_amostral(x)"
      ],
      "metadata": {
        "colab": {
          "base_uri": "https://localhost:8080/"
        },
        "id": "r4GR9Z3wkSsO",
        "outputId": "2cd1e90a-0ad4-4234-8b54-1c71121641e8"
      },
      "execution_count": 40,
      "outputs": [
        {
          "output_type": "execute_result",
          "data": {
            "text/plain": [
              "11.60278221410349"
            ]
          },
          "metadata": {},
          "execution_count": 40
        }
      ]
    },
    {
      "cell_type": "code",
      "source": [
        "incerteza_media(x)"
      ],
      "metadata": {
        "colab": {
          "base_uri": "https://localhost:8080/"
        },
        "id": "5x3bjjI6kUJu",
        "outputId": "c46dad4a-a94e-468c-9574-06de819293f2"
      },
      "execution_count": 41,
      "outputs": [
        {
          "output_type": "execute_result",
          "data": {
            "text/plain": [
              "2.995825485659629"
            ]
          },
          "metadata": {},
          "execution_count": 41
        }
      ]
    },
    {
      "cell_type": "code",
      "source": [],
      "metadata": {
        "id": "6016TjXYkKXN"
      },
      "execution_count": 41,
      "outputs": []
    }
  ]
}